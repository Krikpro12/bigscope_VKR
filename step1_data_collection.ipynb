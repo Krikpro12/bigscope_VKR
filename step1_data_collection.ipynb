{
 "cells": [
  {
   "cell_type": "code",
   "execution_count": 1,
   "id": "812a5d67-3cea-441f-a927-a5ce9a3f5ea1",
   "metadata": {},
   "outputs": [],
   "source": [
    "import requests \n",
    "import json \n",
    "import csv\n",
    "import pymongo\n",
    "from pymongo import MongoClient\n",
    "import time"
   ]
  },
  {
   "cell_type": "code",
   "execution_count": 2,
   "id": "e664442d-9d91-41c5-8ce7-6707d53d40c1",
   "metadata": {},
   "outputs": [],
   "source": [
    "client = MongoClient('localhost', 27017)\n",
    "db = client['VKR']\n",
    "collectionMongo = client['VKR1']['research_paper']\n",
    "api_key='TMDfr4WmyPQiYpaZsCXAhcOzG1xlwqSg'\n",
    "apikey = 'XUJ8Khm1sDBRovdxcG5fZ3STFEkjMOqt'\n",
    "api_endpoint = \"https://api.core.ac.uk/v3/\""
   ]
  },
  {
   "cell_type": "code",
   "execution_count": 3,
   "id": "110346d4-f97a-4791-b72f-511166fa6205",
   "metadata": {},
   "outputs": [],
   "source": [
    "def query_api(search_url, query, scrollId=None):\n",
    "    headers={\"Authorization\":\"Bearer \"+ api_key}\n",
    "    if scrollId:\n",
    "        response = requests.get(f\"{search_url}?q={query}&limit=300&scrollId={scrollId}\",headers=headers)\n",
    "    else:\n",
    "        response = requests.get(f\"{search_url}?q={query}&limit=400&scroll=true\",headers=headers)\n",
    "    if response.status_code ==200:\n",
    "        return response.json(), response.elapsed.total_seconds()\n",
    "    else:\n",
    "        print(f\"Error code {response.status_code}, {response.content}\")\n",
    "def scroll(search_url, query):\n",
    "    count=0\n",
    "    scrollId=None\n",
    "    columns_to_delete = ['arxivId','dataProviders','fullText','id','identifiers','magId','oaiIds','pubmedId', 'links','outputs']\n",
    "    while True:\n",
    "        result, elapsed =query_api(search_url, query, scrollId)\n",
    "        scrollId=result[\"scrollId\"]\n",
    "        totalhits = result[\"totalHits\"]\n",
    "        result_size = len(result[\"results\"])\n",
    "        if result_size==0:\n",
    "            break\n",
    "        for columns in columns_to_delete:\n",
    "            for i in range(len(result[\"results\"])):\n",
    "                del result['results'][i][columns]\n",
    "        collectionMongo.insert_many(result['results'])\n",
    "        count+=result_size\n",
    "        print(f\"{count}/{totalhits} {elapsed}s  \")\n",
    "    return print('It is done')"
   ]
  },
  {
   "cell_type": "code",
   "execution_count": null,
   "id": "2aa5c62d-035c-454a-89ed-33e1a88714c4",
   "metadata": {
    "scrolled": true
   },
   "outputs": [
    {
     "name": "stdout",
     "output_type": "stream",
     "text": [
      "388/1240 4.885319s  \n",
      "774/1240 8.946947s  \n",
      "1168/1240 21.340679s  \n"
     ]
    }
   ],
   "source": [
    "query= f\"big data analytics AND _exists_:abstract AND yearPublished:2011\"\n",
    "scroll(\"https://api.core.ac.uk/v3/search/works/\",query)"
   ]
  },
  {
   "cell_type": "code",
   "execution_count": null,
   "id": "f13a95c9-6d05-4719-bf2c-214497b69dbe",
   "metadata": {},
   "outputs": [],
   "source": []
  }
 ],
 "metadata": {
  "kernelspec": {
   "display_name": "Python 3 (ipykernel)",
   "language": "python",
   "name": "python3"
  },
  "language_info": {
   "codemirror_mode": {
    "name": "ipython",
    "version": 3
   },
   "file_extension": ".py",
   "mimetype": "text/x-python",
   "name": "python",
   "nbconvert_exporter": "python",
   "pygments_lexer": "ipython3",
   "version": "3.12.4"
  }
 },
 "nbformat": 4,
 "nbformat_minor": 5
}
